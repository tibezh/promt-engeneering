{
 "cells": [
  {
   "cell_type": "markdown",
   "metadata": {},
   "source": [
    "# Домашнє завдання: Prompt Engineering\n",
    "\n",
    "## Мета завдання\n",
    "Дослідити, як змінюється відповідь моделі великої мови (LLM) при зміні формулювання запиту. В цьому ноутбуці порівняємо три різних підходи до написання промптів та розробимо стратегію, яка підвищує точність відповідей."
   ]
  },
  {
   "cell_type": "markdown",
   "metadata": {},
   "source": [
    "## Встановлення необхідних бібліотек\n",
    "Для початку встановимо бібліотеки, які дозволять нам взаємодіяти з LLM. У цьому прикладі ми будемо використовувати API OpenAI, але ви можете замінити на будь-яку іншу модель або API."
   ]
  },
  {
   "cell_type": "code",
   "execution_count": 1,
   "metadata": {},
   "outputs": [
    {
     "name": "stdout",
     "output_type": "stream",
     "text": [
      "Requirement already satisfied: requests in ./promt_engineering_env/lib/python3.12/site-packages (2.32.3)\n",
      "Requirement already satisfied: pandas in ./promt_engineering_env/lib/python3.12/site-packages (2.2.3)\n",
      "Requirement already satisfied: matplotlib in ./promt_engineering_env/lib/python3.12/site-packages (3.10.1)\n",
      "Requirement already satisfied: charset-normalizer<4,>=2 in ./promt_engineering_env/lib/python3.12/site-packages (from requests) (3.4.1)\n",
      "Requirement already satisfied: idna<4,>=2.5 in ./promt_engineering_env/lib/python3.12/site-packages (from requests) (3.10)\n",
      "Requirement already satisfied: urllib3<3,>=1.21.1 in ./promt_engineering_env/lib/python3.12/site-packages (from requests) (2.4.0)\n",
      "Requirement already satisfied: certifi>=2017.4.17 in ./promt_engineering_env/lib/python3.12/site-packages (from requests) (2025.1.31)\n",
      "Requirement already satisfied: numpy>=1.26.0 in ./promt_engineering_env/lib/python3.12/site-packages (from pandas) (2.2.5)\n",
      "Requirement already satisfied: python-dateutil>=2.8.2 in ./promt_engineering_env/lib/python3.12/site-packages (from pandas) (2.9.0.post0)\n",
      "Requirement already satisfied: pytz>=2020.1 in ./promt_engineering_env/lib/python3.12/site-packages (from pandas) (2025.2)\n",
      "Requirement already satisfied: tzdata>=2022.7 in ./promt_engineering_env/lib/python3.12/site-packages (from pandas) (2025.2)\n",
      "Requirement already satisfied: contourpy>=1.0.1 in ./promt_engineering_env/lib/python3.12/site-packages (from matplotlib) (1.3.2)\n",
      "Requirement already satisfied: cycler>=0.10 in ./promt_engineering_env/lib/python3.12/site-packages (from matplotlib) (0.12.1)\n",
      "Requirement already satisfied: fonttools>=4.22.0 in ./promt_engineering_env/lib/python3.12/site-packages (from matplotlib) (4.57.0)\n",
      "Requirement already satisfied: kiwisolver>=1.3.1 in ./promt_engineering_env/lib/python3.12/site-packages (from matplotlib) (1.4.8)\n",
      "Requirement already satisfied: packaging>=20.0 in ./promt_engineering_env/lib/python3.12/site-packages (from matplotlib) (25.0)\n",
      "Requirement already satisfied: pillow>=8 in ./promt_engineering_env/lib/python3.12/site-packages (from matplotlib) (11.2.1)\n",
      "Requirement already satisfied: pyparsing>=2.3.1 in ./promt_engineering_env/lib/python3.12/site-packages (from matplotlib) (3.2.3)\n",
      "Requirement already satisfied: six>=1.5 in ./promt_engineering_env/lib/python3.12/site-packages (from python-dateutil>=2.8.2->pandas) (1.17.0)\n",
      "Note: you may need to restart the kernel to use updated packages.\n"
     ]
    }
   ],
   "source": [
    "# Встановлення необхідних бібліотек\n",
    "%pip install requests pandas matplotlib"
   ]
  },
  {
   "cell_type": "code",
   "execution_count": 2,
   "metadata": {},
   "outputs": [],
   "source": [
    "import requests\n",
    "\n",
    "def get_llm_response(prompt, model=\"llama3.2:3b\"):\n",
    "    # Local endpoint Jan.io\n",
    "    port = 1338\n",
    "    url = \"http://localhost:\" + str(port) + \"/v1/chat/completions\" \n",
    "    headers = {\"Content-Type\": \"application/json\"}\n",
    "    data = {\n",
    "        \"messages\": [{\"role\": \"user\", \"content\": prompt}],\n",
    "        \"temperature\": 0.7,\n",
    "        \"model\": model,\n",
    "        \"stream\": False\n",
    "    }\n",
    "    \n",
    "    response = requests.post(url, json=data, headers=headers)\n",
    "    return response.json()[\"choices\"][0][\"message\"][\"content\"]"
   ]
  },
  {
   "cell_type": "markdown",
   "metadata": {},
   "source": [
    "## Вибір задачі для тестування\n",
    "Для дослідження ефективності різних підходів до prompt engineering обрано **задачу розв'язання математичної текстової задачі**. Ця задача має однозначну правильну відповідь, що дозволить об'єктивно оцінити точність відповідей моделі."
   ]
  },
  {
   "cell_type": "code",
   "execution_count": 3,
   "metadata": {},
   "outputs": [
    {
     "name": "stdout",
     "output_type": "stream",
     "text": [
      "Task for testing:\n",
      "\n",
      "The phone cost 8000 UAH in the store. First, its price was reduced by 15%, and then it was increased by 15% of the new price. What is the final price of the phone?\n",
      "\n",
      "\n",
      "Correct answer: 7820 UAH\n"
     ]
    }
   ],
   "source": [
    "# Обрана математична задача\n",
    "task = \"\"\"\n",
    "The phone cost 8000 UAH in the store. First, its price was reduced by 15%, and then it was increased by 15% of the new price. What is the final price of the phone?\n",
    "\"\"\"\n",
    "\n",
    "# Правильна відповідь (для перевірки)\n",
    "correct_answer = 7820  # грн\n",
    "\n",
    "print(\"Task for testing:\")\n",
    "print(task)\n",
    "print(f\"\\nCorrect answer: {correct_answer} UAH\")"
   ]
  },
  {
   "cell_type": "markdown",
   "metadata": {},
   "source": [
    "## Підхід 1: Zero-shot Prompting\n",
    "Zero-shot промпт — це запит, який не містить прикладів. Модель повинна виконати задачу на основі самого запиту без додаткових підказок чи зразків."
   ]
  },
  {
   "cell_type": "code",
   "execution_count": 4,
   "metadata": {},
   "outputs": [
    {
     "name": "stdout",
     "output_type": "stream",
     "text": [
      "Zero-shot prompt:\n",
      "Solve the math problem:\n",
      "\n",
      "\n",
      "The phone cost 8000 UAH in the store. First, its price was reduced by 15%, and then it was increased by 15% of the new price. What is the final price of the phone?\n",
      "\n"
     ]
    }
   ],
   "source": [
    "# Zero-shot промпт\n",
    "zero_shot_prompt = f\"Solve the math problem:\\n\\n{task}\"\n",
    "\n",
    "print(\"Zero-shot prompt:\")\n",
    "print(zero_shot_prompt)"
   ]
  },
  {
   "cell_type": "code",
   "execution_count": 5,
   "metadata": {},
   "outputs": [
    {
     "name": "stdout",
     "output_type": "stream",
     "text": [
      "Model response to Zero-shot prompt:\n"
     ]
    },
    {
     "data": {
      "text/markdown": [
       "To solve this problem, we need to follow these steps:\n",
       "\n",
       "1. Calculate the reduction:\n",
       "Original price = 8000 UAH\n",
       "Reduction percentage = 15%\n",
       "Reduction amount = Original price x Reduction percentage\n",
       "= 8000 UAH x (15/100)\n",
       "= 8000 UAH x 0.15\n",
       "= 1200 UAH\n",
       "\n",
       "New price after reduction = Original price - Reduction amount\n",
       "= 8000 UAH - 1200 UAH\n",
       "= 6800 UAH\n",
       "\n",
       "2. Calculate the increase:\n",
       "Increase percentage = 15% of New price\n",
       "= New price x (15/100)\n",
       "= 6800 UAH x 0.15\n",
       "= 1020 UAH\n",
       "\n",
       "New price after increase = New price + Increase amount\n",
       "= 6800 UAH + 1020 UAH\n",
       "= 7820 UAH\n",
       "\n",
       "So, the final price of the phone is 7820 UAH."
      ],
      "text/plain": [
       "<IPython.core.display.Markdown object>"
      ]
     },
     "metadata": {},
     "output_type": "display_data"
    }
   ],
   "source": [
    "from IPython.display import display, Markdown\n",
    "\n",
    "# Отримання відповіді на Zero-shot промпт\n",
    "zero_shot_response = get_llm_response(zero_shot_prompt)\n",
    "\n",
    "print(\"Model response to Zero-shot prompt:\")\n",
    "display(Markdown(zero_shot_response))"
   ]
  },
  {
   "cell_type": "markdown",
   "metadata": {},
   "source": [
    "## Підхід 2: Few-shot Prompting\n",
    "Few-shot промпт включає приклади розв'язання аналогічних задач, що дозволяє моделі зрозуміти очікуваний формат і підхід до розв'язання."
   ]
  },
  {
   "cell_type": "code",
   "execution_count": 6,
   "metadata": {},
   "outputs": [
    {
     "name": "stdout",
     "output_type": "stream",
     "text": [
      "Few-shot prompt:\n",
      "\n",
      "Here are examples of solving math problems:\n",
      "\n",
      "Example 1:\n",
      "Problem: The PC cost 5000 UAH in the store. First, its price was reduced by 20%, and then it was increased by 25% of the new price. What is the final price of the PC?\n",
      "Solution: 5000 UAH × 0.8 = 4000 UAH, 4000 UAH × 1.25 = 5000 UAH\n",
      "Answer: 5000 UAH\n",
      "\n",
      "Example 2:\n",
      "Problem: The price of a ticket was 300 UAH, but it was increased by 10%, and then it was reduced by 20% How much does the ticket cost now?\n",
      "Solution: 300 UAH × 1.1 = 330 UAH, 330 UAH × 0.7 = 264 UAH\n",
      "Answer: 231 UAH\n",
      "\n",
      "Example 3:\n",
      "Problem: Initially, the price of the product was 400 UAH, then it was reduced by 25%, and then increased again by 25%. What is the final price?\n",
      "Solution: 400 UAH × 0.75 = 300 UAH, 300 UAH × 1.25 = 375 UAH\n",
      "Answer: 375 UAH\n",
      "\n",
      "Now solve this problem:\n",
      "\n",
      "The phone cost 8000 UAH in the store. First, its price was reduced by 15%, and then it was increased by 15% of the new price. What is the final price of the phone?\n",
      "\n",
      "\n"
     ]
    }
   ],
   "source": [
    "# Few-shot промпт з прикладами\n",
    "few_shot_prompt = f\"\"\"\n",
    "Here are examples of solving math problems:\n",
    "\n",
    "Example 1:\n",
    "Problem: The PC cost 5000 UAH in the store. First, its price was reduced by 20%, and then it was increased by 25% of the new price. What is the final price of the PC?\n",
    "Solution: 5000 UAH × 0.8 = 4000 UAH, 4000 UAH × 1.25 = 5000 UAH\n",
    "Answer: 5000 UAH\n",
    "\n",
    "Example 2:\n",
    "Problem: The price of a ticket was 300 UAH, but it was increased by 10%, and then it was reduced by 20% How much does the ticket cost now?\n",
    "Solution: 300 UAH × 1.1 = 330 UAH, 330 UAH × 0.7 = 264 UAH\n",
    "Answer: 231 UAH\n",
    "\n",
    "Example 3:\n",
    "Problem: Initially, the price of the product was 400 UAH, then it was reduced by 25%, and then increased again by 25%. What is the final price?\n",
    "Solution: 400 UAH × 0.75 = 300 UAH, 300 UAH × 1.25 = 375 UAH\n",
    "Answer: 375 UAH\n",
    "\n",
    "Now solve this problem:\n",
    "{task}\n",
    "\"\"\"\n",
    "\n",
    "print(\"Few-shot prompt:\")\n",
    "print(few_shot_prompt)"
   ]
  },
  {
   "cell_type": "code",
   "execution_count": 7,
   "metadata": {},
   "outputs": [
    {
     "name": "stdout",
     "output_type": "stream",
     "text": [
      "Model response to Few-shot prompt\n"
     ]
    },
    {
     "data": {
      "text/markdown": [
       "To find the final price of the phone, we need to follow these steps:\n",
       "\n",
       "1. Reduce the initial price by 15%:\n",
       "8000 UAH × 0.85 (1 - 0.15 reduction) = 6800 UAH\n",
       "2. Increase the new price by 15% of the new price:\n",
       "6800 UAH × 1.15 (1 + 0.15 increase) = 7820 UAH\n",
       "\n",
       "Answer: 7820 UAH"
      ],
      "text/plain": [
       "<IPython.core.display.Markdown object>"
      ]
     },
     "metadata": {},
     "output_type": "display_data"
    }
   ],
   "source": [
    "# Отримання відповіді на Few-shot промпт\n",
    "few_shot_response = get_llm_response(few_shot_prompt)\n",
    "\n",
    "print(\"Model response to Few-shot prompt\")\n",
    "display(Markdown(few_shot_response))"
   ]
  },
  {
   "cell_type": "markdown",
   "metadata": {},
   "source": [
    "## Підхід 3: Chain-of-thought Prompting\n",
    "Chain-of-thought промпт спонукає модель мислити поетапно, розкриваючи логіку міркувань крок за кроком перед тим, як дати остаточну відповідь."
   ]
  },
  {
   "cell_type": "code",
   "execution_count": 8,
   "metadata": {},
   "outputs": [
    {
     "name": "stdout",
     "output_type": "stream",
     "text": [
      "Chain-of-thought prompt:\n",
      "\n",
      "Solve the following math problem. Think step by step:\n",
      "\n",
      "\n",
      "The phone cost 8000 UAH in the store. First, its price was reduced by 15%, and then it was increased by 15% of the new price. What is the final price of the phone?\n",
      "\n",
      "\n",
      "Explain your reasoning step by step before giving a final answer.\n",
      "\n"
     ]
    }
   ],
   "source": [
    "# Chain-of-thought промпт\n",
    "cot_prompt = f\"\"\"\n",
    "Solve the following math problem. Think step by step:\n",
    "\n",
    "{task}\n",
    "\n",
    "Explain your reasoning step by step before giving a final answer.\n",
    "\"\"\"\n",
    "\n",
    "print(\"Chain-of-thought prompt:\")\n",
    "print(cot_prompt)"
   ]
  },
  {
   "cell_type": "code",
   "execution_count": 9,
   "metadata": {},
   "outputs": [
    {
     "name": "stdout",
     "output_type": "stream",
     "text": [
      "The model's response to the Chain-of-thought prompt:\n"
     ]
    },
    {
     "data": {
      "text/markdown": [
       "To solve this problem, let's break it down into steps.\n",
       "\n",
       "Step 1: The initial price of the phone is 8000 UAH.\n",
       "The price was reduced by 15%, so we need to calculate 15% of 8000 UAH:\n",
       "15% of 8000 = (15/100) × 8000 = 1200\n",
       "Now, subtract this amount from the original price:\n",
       "New price after reduction = Original price - Reduction amount\n",
       "= 8000 - 1200\n",
       "= 6800\n",
       "\n",
       "Step 2: The new price of the phone is 6800 UAH.\n",
       "The price was increased by 15% of the new price:\n",
       "15% of 6800 = (15/100) × 6800 = 1020\n",
       "Now, add this amount to the new price:\n",
       "Final price after increase = New price + Increase amount\n",
       "= 6800 + 1020\n",
       "= 7820\n",
       "\n",
       "So, the final price of the phone is 7820 UAH."
      ],
      "text/plain": [
       "<IPython.core.display.Markdown object>"
      ]
     },
     "metadata": {},
     "output_type": "display_data"
    }
   ],
   "source": [
    "# Отримання відповіді на Chain-of-thought промпт\n",
    "cot_response = get_llm_response(cot_prompt)\n",
    "\n",
    "print(\"The model's response to the Chain-of-thought prompt:\")\n",
    "display(Markdown(cot_response))"
   ]
  },
  {
   "cell_type": "markdown",
   "metadata": {},
   "source": [
    "## Оцінка результатів\n",
    "Оцінимо отримані результати за чотирма критеріями: якість (точність відповіді), зрозумілість, повнота та ефективність підходу."
   ]
  },
  {
   "cell_type": "code",
   "execution_count": 10,
   "metadata": {},
   "outputs": [
    {
     "data": {
      "text/html": [
       "<div>\n",
       "<style scoped>\n",
       "    .dataframe tbody tr th:only-of-type {\n",
       "        vertical-align: middle;\n",
       "    }\n",
       "\n",
       "    .dataframe tbody tr th {\n",
       "        vertical-align: top;\n",
       "    }\n",
       "\n",
       "    .dataframe thead th {\n",
       "        text-align: right;\n",
       "    }\n",
       "</style>\n",
       "<table border=\"1\" class=\"dataframe\">\n",
       "  <thead>\n",
       "    <tr style=\"text-align: right;\">\n",
       "      <th></th>\n",
       "      <th>Критерій</th>\n",
       "      <th>Zero-shot</th>\n",
       "      <th>Few-shot</th>\n",
       "      <th>Chain-of-thought</th>\n",
       "    </tr>\n",
       "  </thead>\n",
       "  <tbody>\n",
       "    <tr>\n",
       "      <th>0</th>\n",
       "      <td>Якість (точність)</td>\n",
       "      <td>4</td>\n",
       "      <td>5</td>\n",
       "      <td>5</td>\n",
       "    </tr>\n",
       "    <tr>\n",
       "      <th>1</th>\n",
       "      <td>Зрозумілість</td>\n",
       "      <td>3</td>\n",
       "      <td>4</td>\n",
       "      <td>5</td>\n",
       "    </tr>\n",
       "    <tr>\n",
       "      <th>2</th>\n",
       "      <td>Повнота</td>\n",
       "      <td>3</td>\n",
       "      <td>4</td>\n",
       "      <td>5</td>\n",
       "    </tr>\n",
       "    <tr>\n",
       "      <th>3</th>\n",
       "      <td>Ефективність</td>\n",
       "      <td>5</td>\n",
       "      <td>4</td>\n",
       "      <td>3</td>\n",
       "    </tr>\n",
       "    <tr>\n",
       "      <th>4</th>\n",
       "      <td>Загальна оцінка</td>\n",
       "      <td>15</td>\n",
       "      <td>17</td>\n",
       "      <td>18</td>\n",
       "    </tr>\n",
       "  </tbody>\n",
       "</table>\n",
       "</div>"
      ],
      "text/plain": [
       "            Критерій  Zero-shot  Few-shot  Chain-of-thought\n",
       "0  Якість (точність)          4         5                 5\n",
       "1       Зрозумілість          3         4                 5\n",
       "2            Повнота          3         4                 5\n",
       "3       Ефективність          5         4                 3\n",
       "4    Загальна оцінка         15        17                18"
      ]
     },
     "metadata": {},
     "output_type": "display_data"
    }
   ],
   "source": [
    "import pandas as pd\n",
    "\n",
    "# Визначення критеріїв оцінки\n",
    "evaluation_criteria = [\n",
    "    \"Якість (точність)\", \n",
    "    \"Зрозумілість\", \n",
    "    \"Повнота\", \n",
    "    \"Ефективність\"\n",
    "]\n",
    "\n",
    "# Субєктивна оцінка за кожен підхід за шкалою від 1 до 5\n",
    "zero_shot_scores = [4, 3, 3, 5]\n",
    "few_shot_scores = [5, 4, 4, 4]\n",
    "cot_scores = [5, 5, 5, 3]\n",
    "\n",
    "# Створення таблиці з оцінками\n",
    "evaluation_df = pd.DataFrame({\n",
    "    \"Критерій\": evaluation_criteria,\n",
    "    \"Zero-shot\": zero_shot_scores,\n",
    "    \"Few-shot\": few_shot_scores,\n",
    "    \"Chain-of-thought\": cot_scores\n",
    "})\n",
    "\n",
    "# Додавання загальної оцінки\n",
    "evaluation_df.loc[len(evaluation_df)] = [\n",
    "    \"Загальна оцінка\", \n",
    "    sum(zero_shot_scores), \n",
    "    sum(few_shot_scores), \n",
    "    sum(cot_scores)\n",
    "]\n",
    "\n",
    "# Відображення таблиці оцінок\n",
    "display(evaluation_df)"
   ]
  },
  {
   "cell_type": "code",
   "execution_count": 11,
   "metadata": {},
   "outputs": [
    {
     "data": {
      "image/png": "[encoded data removed]",
      "text/plain": [
       "<Figure size 1200x600 with 1 Axes>"
      ]
     },
     "metadata": {},
     "output_type": "display_data"
    }
   ],
   "source": [
    "import matplotlib.pyplot as plt\n",
    "\n",
    "# Візуалізація результатів\n",
    "plt.figure(figsize=(12, 6))\n",
    "\n",
    "x = range(len(evaluation_criteria))\n",
    "width = 0.25\n",
    "\n",
    "plt.bar([i - width for i in x], zero_shot_scores, width, label='Zero-shot')\n",
    "plt.bar(x, few_shot_scores, width, label='Few-shot')\n",
    "plt.bar([i + width for i in x], cot_scores, width, label='Chain-of-thought')\n",
    "\n",
    "plt.xlabel('Критерії оцінки')\n",
    "plt.ylabel('Оцінка (1-5)')\n",
    "plt.title('Порівняння ефективності різних підходів до промптів')\n",
    "plt.xticks(x, evaluation_criteria, rotation=15)\n",
    "plt.ylim(0, 5.5)\n",
    "plt.legend()\n",
    "plt.tight_layout()\n",
    "plt.show()"
   ]
  },
  {
   "cell_type": "markdown",
   "metadata": {},
   "source": [
    "## Детальний аналіз відповідей\n",
    "\n",
    "Проаналізуємо отримані результати за кожним підходом:"
   ]
  },
  {
   "cell_type": "code",
   "execution_count": 12,
   "metadata": {},
   "outputs": [
    {
     "name": "stdout",
     "output_type": "stream",
     "text": [
      "\n",
      "## Zero-shot - ✓ CORRECT\n",
      "\n",
      "\n",
      "## Few-shot - ✓ CORRECT\n",
      "\n",
      "\n",
      "## Chain-of-thought - ✓ CORRECT\n",
      "\n"
     ]
    }
   ],
   "source": [
    "# Функція для визначення, чи правильна відповідь\n",
    "def extract_final_answer(response):\n",
    "    \"\"\"Attempting to extract the final numerical answer from the answer text\"\"\"\n",
    "    # Тут можна додати логіку для автоматичного видобування числової відповіді\n",
    "    # Для цього завдання ви можете просто ручно перевірити, чи є в відповіді число 7820\n",
    "    return \"7820\" in response\n",
    "\n",
    "results = {\n",
    "    \"Zero-shot\": {\n",
    "        \"correct\": extract_final_answer(zero_shot_response),\n",
    "        \"response\": zero_shot_response\n",
    "    },\n",
    "    \"Few-shot\": {\n",
    "        \"correct\": extract_final_answer(few_shot_response),\n",
    "        \"response\": few_shot_response\n",
    "    },\n",
    "    \"Chain-of-thought\": {\n",
    "        \"correct\": extract_final_answer(cot_response),\n",
    "        \"response\": cot_response\n",
    "    }\n",
    "}\n",
    "\n",
    "for approach, data in results.items():\n",
    "    correctness = \"✓ CORRECT\" if data[\"correct\"] else \"✗ INCORRECT\"\n",
    "    print(f\"\\n## {approach} - {correctness}\\n\")\n",
    "    # Інший аналіз відповіді можна додати тут"
   ]
  },
  {
   "cell_type": "markdown",
   "metadata": {},
   "source": [
    "## Формулювання власної стратегії prompt engineering\n",
    "\n",
    "На основі проведеного дослідження можна сформулювати такі принципи ефективної стратегії prompt engineering:"
   ]
  },
  {
   "cell_type": "markdown",
   "metadata": {},
   "source": [
    "### Моя стратегія prompt engineering\n",
    "\n",
    "1. **Структурований підхід**: Найкращі результати показав метод chain-of-thought, який спонукає модель розбивати складне завдання на прості кроки.\n",
    "\n",
    "2. **Чіткість інструкцій**: Промпт має містити однозначну вказівку щодо необхідних дій та очікуваного формату відповіді.\n",
    "\n",
    "3. **Демонстрація прикладів**: Включення кількох релевантних прикладів (few-shot підхід) допомагає моделі краще зрозуміти контекст і формат відповіді.\n",
    "\n",
    "4. **Інструкції щодо процесу мислення**: Спонукання моделі пояснювати своє мислення крок за кроком дозволяє отримати більш логічні та перевірені відповіді.\n",
    "\n",
    "5. **Адаптація до типу задачі**: Для математичних задач найефективніший chain-of-thought, для творчих завдань може бути доречнішим few-shot з прикладами бажаного стилю.\n",
    "\n",
    "6. **Ітеративне уточнення**: При необхідності можна комбінувати підходи, наприклад, почати з few-shot, а потім додати елементи chain-of-thought.\n",
    "\n",
    "7. **Валідація відповіді**: Включення в промпт інструкції щодо перевірки отриманого результату підвищує точність відповіді."
   ]
  },
  {
   "cell_type": "markdown",
   "metadata": {},
   "source": [
    "## Експериментальний підхід: комбінований промпт\n",
    "\n",
    "На основі сформульованої стратегії, створимо комбінований промпт, який поєднує найкращі елементи розглянутих підходів:"
   ]
  },
  {
   "cell_type": "code",
   "execution_count": 13,
   "metadata": {},
   "outputs": [
    {
     "name": "stdout",
     "output_type": "stream",
     "text": [
      "Combined prompt:\n",
      "\n",
      "You are an experienced math teacher. You need to solve a math problem, explaining each step.\n",
      "\n",
      "Example solution:\n",
      "Problem: Initially, the price of the product was 400 UAH, then it was reduced by 25%, and then increased again by 25%. What is the final price?\n",
      "Solution:\n",
      "1. Find the price after the discount: 400 UAH × 0.75 = 300 UAH\n",
      "2. Find the price after the increase: 300 UAH × 1.25 = 375 UAH\n",
      "3. Check: 400 × (1 - 0.25) × (1 + 0.25) = 400 × 0.75 × 1.25 = 400 × 0.9375 = 375 UAH\n",
      "Answer: 375 UAH\n",
      "\n",
      "Now solve this problem, reasoning step by step:\n",
      "\n",
      "The phone cost 8000 UAH in the store. First, its price was reduced by 15%, and then it was increased by 15% of the new price. What is the final price of the phone?\n",
      "\n",
      "\n",
      "Required:\n",
      "1. Explain each step of the solution\n",
      "2. Check the answer in another way\n",
      "3. Write the final answer in the format \"Answer: X UAH\"\n",
      "\n"
     ]
    }
   ],
   "source": [
    "# Комбінований промпт\n",
    "combined_prompt = f\"\"\"\n",
    "You are an experienced math teacher. You need to solve a math problem, explaining each step.\n",
    "\n",
    "Example solution:\n",
    "Problem: Initially, the price of the product was 400 UAH, then it was reduced by 25%, and then increased again by 25%. What is the final price?\n",
    "Solution:\n",
    "1. Find the price after the discount: 400 UAH × 0.75 = 300 UAH\n",
    "2. Find the price after the increase: 300 UAH × 1.25 = 375 UAH\n",
    "3. Check: 400 × (1 - 0.25) × (1 + 0.25) = 400 × 0.75 × 1.25 = 400 × 0.9375 = 375 UAH\n",
    "Answer: 375 UAH\n",
    "\n",
    "Now solve this problem, reasoning step by step:\n",
    "{task}\n",
    "\n",
    "Required:\n",
    "1. Explain each step of the solution\n",
    "2. Check the answer in another way\n",
    "3. Write the final answer in the format \"Answer: X UAH\"\n",
    "\"\"\"\n",
    "\n",
    "print(\"Combined prompt:\")\n",
    "print(combined_prompt)"
   ]
  },
  {
   "cell_type": "code",
   "execution_count": 14,
   "metadata": {},
   "outputs": [
    {
     "name": "stdout",
     "output_type": "stream",
     "text": [
      "The model's response to the combined prompt:\n"
     ]
    },
    {
     "data": {
      "text/markdown": [
       "Problem: The initial price of the phone was 8000 UAH, then it was reduced by 15%, and then increased again by 15% of the new price.\n",
       "\n",
       "Solution:\n",
       "\n",
       "1. Find the price after the discount:\n",
       "First, calculate 15% of the original price (8000 UAH):\n",
       "15% = 0.15\n",
       "Multiply the original price by this percentage: \n",
       "8000 × 0.15 = 1200 UAH\n",
       "Now subtract this amount from the initial price to get the discounted price:\n",
       "8000 - 1200 = 6800 UAH\n",
       "\n",
       "2. Find the price after the increase:\n",
       "Next, find 15% of the new price (6800 UAH):\n",
       "Again, calculate 15% of 6800 UAH: \n",
       "15% = 0.15\n",
       "Multiply 6800 by this percentage:\n",
       "6800 × 0.15 = 1020 UAH\n",
       "\n",
       "Now add this amount to the discounted price:\n",
       "6800 + 1020 = 7820 UAH\n",
       "\n",
       "3. Check:\n",
       "Another way to calculate is, find the increase as a decimal and multiply it with both the original and discounted prices: \n",
       "Increase percentage = 15% = 0.15\n",
       "Initial price * (1 - 0.15) * (1 + 0.15)\n",
       "= 8000 UAH * (0.85) * (1.15)\n",
       "= 8000 × 0.9875 \n",
       "= 7880 UAH\n",
       "\n",
       "Since the calculated answer is very close to our first solution of 7820 UAH, we can confidently say both answers match.\n",
       "\n",
       "Answer: 7820 UAH"
      ],
      "text/plain": [
       "<IPython.core.display.Markdown object>"
      ]
     },
     "metadata": {},
     "output_type": "display_data"
    }
   ],
   "source": [
    "# Отримання відповіді на комбінований промпт\n",
    "combined_response = get_llm_response(combined_prompt)\n",
    "\n",
    "print(\"The model's response to the combined prompt:\")\n",
    "display(Markdown(combined_response))"
   ]
  },
  {
   "cell_type": "markdown",
   "metadata": {},
   "source": [
    "## Висновки\n",
    "\n",
    "У цьому дослідженні ми порівняли три різні підходи до prompt engineering: zero-shot, few-shot та chain-of-thought, а також розробили комбінований підхід на основі найкращих практик.\n",
    "\n",
    "Результати дослідження показують, що ефективність промпту сильно залежить від типу задачі та бажаного формату відповіді. Для математичних задач складного характеру найкращі результати демонструє chain-of-thought підхід, який спонукає модель мислити поетапно та перевіряти свої результати.\n",
    "Для математичних задач простого характеру, де необхідно вирішити до 2-3 прикладів цілком буде достатньо Few shot тип промтів, мав змогу тестувати багато різних варіацій і маю таке враження, що LLM добре розуміють математику, їм треба тільки декілька прикладів і все одразу буде \"схоплено\".\n",
    "\n",
    "Все-таки комбінований підхід, який включає елементи різних стратегій (встановлення ролі, надання прикладів, спонукання до поетапного мислення та перевірки результатів), демонструє найвищу ефективність та може бути адаптований для різних типів задач."
   ]
  }
 ],
 "metadata": {
  "kernelspec": {
   "display_name": "Python 3 (ipykernel)",
   "language": "python",
   "name": "python3"
  },
  "language_info": {
   "codemirror_mode": {
    "name": "ipython",
    "version": 3
   },
   "file_extension": ".py",
   "mimetype": "text/x-python",
   "name": "python",
   "nbconvert_exporter": "python",
   "pygments_lexer": "ipython3",
   "version": "3.12.3"
  }
 },
 "nbformat": 4,
 "nbformat_minor": 4
}
